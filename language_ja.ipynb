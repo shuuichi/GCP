{
  "nbformat": 4,
  "nbformat_minor": 0,
  "metadata": {
    "colab": {
      "name": "language_ja",
      "version": "0.3.2",
      "provenance": [],
      "collapsed_sections": [
        "ifmLrz6aOc1y",
        "gAifg1LVBCyJ",
        "ZV3n06DDAZya",
        "aOX38r8oAzOc",
        "prYMj5yliBCn",
        "ITxnMYwD-njf",
        "tUDIOJ-iF4fU",
        "cw6EjNhxEdeC",
        "RNH1HmaX9j53"
      ],
      "toc_visible": true,
      "include_colab_link": true
    },
    "kernelspec": {
      "name": "python3",
      "display_name": "Python 3"
    }
  },
  "cells": [
    {
      "cell_type": "markdown",
      "metadata": {
        "id": "view-in-github",
        "colab_type": "text"
      },
      "source": [
        "<a href=\"https://colab.research.google.com/github/shuuichi/GCP/blob/master/language_ja.ipynb\" target=\"_parent\"><img src=\"https://colab.research.google.com/assets/colab-badge.svg\" alt=\"Open In Colab\"/></a>"
      ]
    },
    {
      "metadata": {
        "id": "5PxyE_pB2xRs",
        "colab_type": "text"
      },
      "cell_type": "markdown",
      "source": [
        "\n",
        "--- \n",
        "```\n",
        "Copyright 2019 Google LLC\n",
        "\n",
        "Licensed under the Apache License, Version 2.0 (the \"License\");\n",
        "you may not use this file except in compliance with the License.\n",
        "You may obtain a copy of the License at\n",
        "\n",
        "    https://www.apache.org/licenses/LICENSE-2.0\n",
        "\n",
        "Unless required by applicable law or agreed to in writing, software\n",
        "distributed under the License is distributed on an \"AS IS\" BASIS,\n",
        "WITHOUT WARRANTIES OR CONDITIONS OF ANY KIND, either express or implied.\n",
        "See the License for the specific language governing permissions and\n",
        "limitations under the License.\n",
        "```\n",
        "---"
      ]
    },
    {
      "metadata": {
        "id": "ZyKVGuy4ckAn",
        "colab_type": "text"
      },
      "cell_type": "markdown",
      "source": [
        "## Google Cloud API の認証情報を入力\n",
        "\n",
        "Google Cloud API を REST インタフェースから利用するために、 [API Key](https://console.cloud.google.com/apis/credentials) を利用します。 Google Cloud Console から API Key をコピーしましょう。"
      ]
    },
    {
      "metadata": {
        "id": "LKAPUQ8hAnpc",
        "colab_type": "code",
        "outputId": "0298d6f8-c1a8-49e7-ab74-4a7b475a4bd1",
        "colab": {
          "base_uri": "https://localhost:8080/",
          "height": 34
        }
      },
      "cell_type": "code",
      "source": [
        "import getpass\n",
        "\n",
        "APIKEY = getpass.getpass()"
      ],
      "execution_count": 1,
      "outputs": [
        {
          "output_type": "stream",
          "text": [
            "··········\n"
          ],
          "name": "stdout"
        }
      ]
    },
    {
      "metadata": {
        "id": "ifmLrz6aOc1y",
        "colab_type": "text"
      },
      "cell_type": "markdown",
      "source": [
        "## Cloud Natural Language API を使ってみよう !\n",
        "**Cloud Natural Language API** は、エンティティ分析、感情分析、コンテンツ分類、構文解析などの自然言語を理解するための技術をデベロッパーに提供します。"
      ]
    },
    {
      "metadata": {
        "id": "jJqsfDLAEtJe",
        "colab_type": "code",
        "colab": {}
      },
      "cell_type": "code",
      "source": [
        ""
      ],
      "execution_count": 0,
      "outputs": []
    },
    {
      "metadata": {
        "id": "9KuUC22D0NUs",
        "colab_type": "text"
      },
      "cell_type": "markdown",
      "source": [
        "API Discovery Service を利用して **Cloud Natural Language API** を発見します。 Cloud Natural Language の REST API 仕様は [こちら](https://cloud.google.com/natural-language/docs/reference/rest/) に解説されています。\n",
        "\n"
      ]
    },
    {
      "metadata": {
        "id": "ezKcIGviNp7w",
        "colab_type": "code",
        "colab": {}
      },
      "cell_type": "code",
      "source": [
        "from googleapiclient.discovery import build\n",
        "\n",
        "nl_service = build('language', 'v1beta2', developerKey=APIKEY)"
      ],
      "execution_count": 0,
      "outputs": []
    },
    {
      "metadata": {
        "id": "k-L-vfdP0-WX",
        "colab_type": "text"
      },
      "cell_type": "markdown",
      "source": [
        "Cloud Natural Language API に入力する情報を定義します。"
      ]
    },
    {
      "metadata": {
        "id": "wBVjyEJkOnTR",
        "colab_type": "code",
        "cellView": "both",
        "outputId": "73141fc3-269f-475f-9f2d-7a1ba668eeac",
        "colab": {
          "base_uri": "https://localhost:8080/",
          "height": 105
        }
      },
      "cell_type": "code",
      "source": [
        "import textwrap\n",
        "\n",
        "source_language = \"en\" #@param [\"en\", \"ja\"] {type: \"string\"}\n",
        "source_sentence = \"Classifying Opinion and Editorials can be time-consuming and difficult work for any data science team, but Cloud Natural Language was able to instantly identify clear topics with a high-level of confidence. This tool has saved me weeks, if not months, of work to achieve a level of accuracy that may not have been possible with our in-house resources.\" #@param {type:\"string\"}\n",
        "\n",
        "document_type = \"PLAIN_TEXT\" #@param[\"PLAIN_TEXT\", \"HTML\"] {type: \"string\"}\n",
        "encoding_type = \"UTF8\" #@param[\"UTF8\", \"UTF16\", \"UTF32\"] {type: \"string\"}\n",
        "\n",
        "textwrap.wrap(source_sentence)"
      ],
      "execution_count": 3,
      "outputs": [
        {
          "output_type": "execute_result",
          "data": {
            "text/plain": [
              "['Classifying Opinion and Editorials can be time-consuming and difficult',\n",
              " 'work for any data science team, but Cloud Natural Language was able to',\n",
              " 'instantly identify clear topics with a high-level of confidence. This',\n",
              " 'tool has saved me weeks, if not months, of work to achieve a level of',\n",
              " 'accuracy that may not have been possible with our in-house resources.']"
            ]
          },
          "metadata": {
            "tags": []
          },
          "execution_count": 3
        }
      ]
    },
    {
      "metadata": {
        "id": "gAifg1LVBCyJ",
        "colab_type": "text"
      },
      "cell_type": "markdown",
      "source": [
        "### エンティティ分析\n",
        "\n",
        "**エンティティ分析**は、指定されたテキストに既知のエンティティ（著名人、ランドマークなどの固有名詞）が含まれていないかどうかを調べて、それらのエンティティに関する情報を返します。エンティティ分析に関する REST API 仕様は[こちら](https://cloud.google.com/natural-language/docs/reference/rest/v1beta2/documents/analyzeEntities)で解説されています。"
      ]
    },
    {
      "metadata": {
        "id": "sDvSWlIrBCLZ",
        "colab_type": "code",
        "colab": {}
      },
      "cell_type": "code",
      "source": [
        "response = nl_service.documents().analyzeEntities(\n",
        "  body={\n",
        "    'document': {\n",
        "      'type': document_type,\n",
        "      'content': source_sentence,\n",
        "      'language': source_language,\n",
        "    },\n",
        "    'encodingType': encoding_type,\n",
        "  }\n",
        ").execute()"
      ],
      "execution_count": 0,
      "outputs": []
    },
    {
      "metadata": {
        "id": "5P4M1_sADjUw",
        "colab_type": "code",
        "outputId": "4a72af8a-d69f-4606-8602-496413974cbe",
        "colab": {
          "base_uri": "https://localhost:8080/",
          "height": 34
        }
      },
      "cell_type": "code",
      "source": [
        "# Below code is extracting only proper nouns from a response message. If you\n",
        "# have interest on what information is exactly contained in a response message,\n",
        "# please try to explore it :D\n",
        "\n",
        "for entity in response['entities']:\n",
        "  for mention in entity['mentions']:\n",
        "    if mention['type'] == 'PROPER':\n",
        "      print(mention, entity['metadata'])"
      ],
      "execution_count": 5,
      "outputs": [
        {
          "output_type": "stream",
          "text": [
            "{'text': {'content': 'Cloud Natural Language', 'beginOffset': 107}, 'type': 'PROPER'} {}\n"
          ],
          "name": "stdout"
        }
      ]
    },
    {
      "metadata": {
        "id": "ZV3n06DDAZya",
        "colab_type": "text"
      },
      "cell_type": "markdown",
      "source": [
        "### 感情分析\n",
        "\n",
        "**感情分析**は、指定されたテキストを調べて、そのテキストの背景にある感情的な考え方を分析します。具体的には、執筆者の考え方がポジティブか、ネガティブか、ニュートラルかを判断します。感情分析に関する REST API 仕様は[こちら](https://cloud.google.com/natural-language/docs/reference/rest/v1beta2/documents/analyzeSentiment)で解説されています。"
      ]
    },
    {
      "metadata": {
        "id": "8wZhfjlfOsvp",
        "colab_type": "code",
        "colab": {}
      },
      "cell_type": "code",
      "source": [
        "response = nl_service.documents().analyzeSentiment(\n",
        "  body={\n",
        "    'document': {\n",
        "      'type': document_type,\n",
        "      'content': source_sentence,\n",
        "      'language': source_language,\n",
        "    },\n",
        "    'encodingType': encoding_type,\n",
        "  }\n",
        ").execute()"
      ],
      "execution_count": 0,
      "outputs": []
    },
    {
      "metadata": {
        "id": "rzhe-FTuHMa4",
        "colab_type": "code",
        "outputId": "a3542544-f5fd-4698-871c-68ce8e4bb14d",
        "colab": {
          "base_uri": "https://localhost:8080/",
          "height": 34
        }
      },
      "cell_type": "code",
      "source": [
        "# This shows you document-level sentiment.\n",
        "response['documentSentiment']"
      ],
      "execution_count": 14,
      "outputs": [
        {
          "output_type": "execute_result",
          "data": {
            "text/plain": [
              "{'magnitude': 1.6, 'score': 0.8}"
            ]
          },
          "metadata": {
            "tags": []
          },
          "execution_count": 14
        }
      ]
    },
    {
      "metadata": {
        "id": "dhqhI2eBHY2R",
        "colab_type": "code",
        "outputId": "6048c337-715d-4b8b-f6cc-0503633672c7",
        "colab": {
          "base_uri": "https://localhost:8080/",
          "height": 72
        }
      },
      "cell_type": "code",
      "source": [
        "# This shows you sentence-level sentiment.\n",
        "for sentence in response['sentences']:\n",
        "  print(sentence['sentiment'], sentence['text']['content'])"
      ],
      "execution_count": 15,
      "outputs": [
        {
          "output_type": "stream",
          "text": [
            "{'magnitude': 0.8, 'score': 0.8} Classifying Opinion and Editorials can be time-consuming and difficult work for any data science team, but Cloud Natural Language was able to instantly identify clear topics with a high-level of confidence.\n",
            "{'magnitude': 0.7, 'score': 0.7} This tool has saved me weeks, if not months, of work to achieve a level of accuracy that may not have been possible with our in-house resources.\n"
          ],
          "name": "stdout"
        }
      ]
    },
    {
      "metadata": {
        "id": "aOX38r8oAzOc",
        "colab_type": "text"
      },
      "cell_type": "markdown",
      "source": [
        "### コンテンツの分類 (英語のみ)\n",
        "\n",
        "**コンテンツの分類**は、ドキュメントを分析し、ドキュメント内で見つかったテキストに適用されるコンテンツ カテゴリのリストを返します。ドキュメント内のコンテンツを分類するには、[classifyText](https://cloud.google.com/natural-language/docs/reference/rest/v1beta2/documents/classifyText) メソッドを呼び出します。\n",
        "\n"
      ]
    },
    {
      "metadata": {
        "id": "p6mIDMlgPD-4",
        "colab_type": "code",
        "colab": {}
      },
      "cell_type": "code",
      "source": [
        "response = nl_service.documents().classifyText(\n",
        "  body={\n",
        "    'document': {\n",
        "      'type': document_type,\n",
        "      'content': source_sentence,\n",
        "      'language': source_language,\n",
        "    },\n",
        "  }\n",
        ").execute()"
      ],
      "execution_count": 0,
      "outputs": []
    },
    {
      "metadata": {
        "id": "N0cE8arJizYT",
        "colab_type": "code",
        "outputId": "0995f3c4-d9a5-4ac2-f466-e42394058419",
        "colab": {
          "base_uri": "https://localhost:8080/",
          "height": 34
        }
      },
      "cell_type": "code",
      "source": [
        "response['categories']"
      ],
      "execution_count": 17,
      "outputs": [
        {
          "output_type": "execute_result",
          "data": {
            "text/plain": [
              "[{'confidence': 0.64, 'name': '/Computers & Electronics'}]"
            ]
          },
          "metadata": {
            "tags": []
          },
          "execution_count": 17
        }
      ]
    },
    {
      "metadata": {
        "id": "prYMj5yliBCn",
        "colab_type": "text"
      },
      "cell_type": "markdown",
      "source": [
        "### 構文解析\n",
        "\n",
        "**構文解析**では、指定されたテキストを一連の文とトークン（通常は単語）に分解して、それらのトークンに関する言語情報を提供します。ほとんどの Natural Language API メソッドは、指定されたテキストの内容を分析しますが、[analyzeSyntax](https://cloud.google.com/natural-language/docs/reference/rest/v1beta2/documents/analyzeSyntax)  メソッドは、言語自体の構造を検査します。"
      ]
    },
    {
      "metadata": {
        "id": "ojKuQAfOiAXn",
        "colab_type": "code",
        "colab": {}
      },
      "cell_type": "code",
      "source": [
        "response = nl_service.documents().analyzeSyntax(\n",
        "  body={\n",
        "    'document': {\n",
        "      'type': document_type,\n",
        "      'content': source_sentence,\n",
        "      'language': source_language,\n",
        "    },\n",
        "    'encodingType': encoding_type,\n",
        "  }\n",
        ").execute()"
      ],
      "execution_count": 0,
      "outputs": []
    },
    {
      "metadata": {
        "id": "BUcEQ-WJiLsb",
        "colab_type": "code",
        "colab": {
          "base_uri": "https://localhost:8080/",
          "height": 18233
        },
        "outputId": "7fcfdcb5-f70c-4c5c-9649-e6f0933bcee9"
      },
      "cell_type": "code",
      "source": [
        "# This shows you output of syntax analysis. To leverage this output, you may\n",
        "# need domain knowledge on natural language analysis.\n",
        "\n",
        "response['tokens']"
      ],
      "execution_count": 19,
      "outputs": [
        {
          "output_type": "execute_result",
          "data": {
            "text/plain": [
              "[{'dependencyEdge': {'headTokenIndex': 1, 'label': 'NN'},\n",
              "  'lemma': 'Classifying',\n",
              "  'partOfSpeech': {'aspect': 'ASPECT_UNKNOWN',\n",
              "   'case': 'CASE_UNKNOWN',\n",
              "   'form': 'FORM_UNKNOWN',\n",
              "   'gender': 'GENDER_UNKNOWN',\n",
              "   'mood': 'MOOD_UNKNOWN',\n",
              "   'number': 'NUMBER_UNKNOWN',\n",
              "   'person': 'PERSON_UNKNOWN',\n",
              "   'proper': 'PROPER',\n",
              "   'reciprocity': 'RECIPROCITY_UNKNOWN',\n",
              "   'tag': 'NOUN',\n",
              "   'tense': 'TENSE_UNKNOWN',\n",
              "   'voice': 'VOICE_UNKNOWN'},\n",
              "  'text': {'beginOffset': 0, 'content': 'Classifying'}},\n",
              " {'dependencyEdge': {'headTokenIndex': 5, 'label': 'NSUBJ'},\n",
              "  'lemma': 'Opinion',\n",
              "  'partOfSpeech': {'aspect': 'ASPECT_UNKNOWN',\n",
              "   'case': 'CASE_UNKNOWN',\n",
              "   'form': 'FORM_UNKNOWN',\n",
              "   'gender': 'GENDER_UNKNOWN',\n",
              "   'mood': 'MOOD_UNKNOWN',\n",
              "   'number': 'SINGULAR',\n",
              "   'person': 'PERSON_UNKNOWN',\n",
              "   'proper': 'PROPER',\n",
              "   'reciprocity': 'RECIPROCITY_UNKNOWN',\n",
              "   'tag': 'NOUN',\n",
              "   'tense': 'TENSE_UNKNOWN',\n",
              "   'voice': 'VOICE_UNKNOWN'},\n",
              "  'text': {'beginOffset': 12, 'content': 'Opinion'}},\n",
              " {'dependencyEdge': {'headTokenIndex': 1, 'label': 'CC'},\n",
              "  'lemma': 'and',\n",
              "  'partOfSpeech': {'aspect': 'ASPECT_UNKNOWN',\n",
              "   'case': 'CASE_UNKNOWN',\n",
              "   'form': 'FORM_UNKNOWN',\n",
              "   'gender': 'GENDER_UNKNOWN',\n",
              "   'mood': 'MOOD_UNKNOWN',\n",
              "   'number': 'NUMBER_UNKNOWN',\n",
              "   'person': 'PERSON_UNKNOWN',\n",
              "   'proper': 'PROPER_UNKNOWN',\n",
              "   'reciprocity': 'RECIPROCITY_UNKNOWN',\n",
              "   'tag': 'CONJ',\n",
              "   'tense': 'TENSE_UNKNOWN',\n",
              "   'voice': 'VOICE_UNKNOWN'},\n",
              "  'text': {'beginOffset': 20, 'content': 'and'}},\n",
              " {'dependencyEdge': {'headTokenIndex': 1, 'label': 'CONJ'},\n",
              "  'lemma': 'Editorials',\n",
              "  'partOfSpeech': {'aspect': 'ASPECT_UNKNOWN',\n",
              "   'case': 'CASE_UNKNOWN',\n",
              "   'form': 'FORM_UNKNOWN',\n",
              "   'gender': 'GENDER_UNKNOWN',\n",
              "   'mood': 'MOOD_UNKNOWN',\n",
              "   'number': 'SINGULAR',\n",
              "   'person': 'PERSON_UNKNOWN',\n",
              "   'proper': 'PROPER',\n",
              "   'reciprocity': 'RECIPROCITY_UNKNOWN',\n",
              "   'tag': 'NOUN',\n",
              "   'tense': 'TENSE_UNKNOWN',\n",
              "   'voice': 'VOICE_UNKNOWN'},\n",
              "  'text': {'beginOffset': 24, 'content': 'Editorials'}},\n",
              " {'dependencyEdge': {'headTokenIndex': 5, 'label': 'AUX'},\n",
              "  'lemma': 'can',\n",
              "  'partOfSpeech': {'aspect': 'ASPECT_UNKNOWN',\n",
              "   'case': 'CASE_UNKNOWN',\n",
              "   'form': 'FORM_UNKNOWN',\n",
              "   'gender': 'GENDER_UNKNOWN',\n",
              "   'mood': 'MOOD_UNKNOWN',\n",
              "   'number': 'NUMBER_UNKNOWN',\n",
              "   'person': 'PERSON_UNKNOWN',\n",
              "   'proper': 'PROPER_UNKNOWN',\n",
              "   'reciprocity': 'RECIPROCITY_UNKNOWN',\n",
              "   'tag': 'VERB',\n",
              "   'tense': 'TENSE_UNKNOWN',\n",
              "   'voice': 'VOICE_UNKNOWN'},\n",
              "  'text': {'beginOffset': 35, 'content': 'can'}},\n",
              " {'dependencyEdge': {'headTokenIndex': 5, 'label': 'ROOT'},\n",
              "  'lemma': 'be',\n",
              "  'partOfSpeech': {'aspect': 'ASPECT_UNKNOWN',\n",
              "   'case': 'CASE_UNKNOWN',\n",
              "   'form': 'FORM_UNKNOWN',\n",
              "   'gender': 'GENDER_UNKNOWN',\n",
              "   'mood': 'MOOD_UNKNOWN',\n",
              "   'number': 'NUMBER_UNKNOWN',\n",
              "   'person': 'PERSON_UNKNOWN',\n",
              "   'proper': 'PROPER_UNKNOWN',\n",
              "   'reciprocity': 'RECIPROCITY_UNKNOWN',\n",
              "   'tag': 'VERB',\n",
              "   'tense': 'TENSE_UNKNOWN',\n",
              "   'voice': 'VOICE_UNKNOWN'},\n",
              "  'text': {'beginOffset': 39, 'content': 'be'}},\n",
              " {'dependencyEdge': {'headTokenIndex': 8, 'label': 'NPADVMOD'},\n",
              "  'lemma': 'time',\n",
              "  'partOfSpeech': {'aspect': 'ASPECT_UNKNOWN',\n",
              "   'case': 'CASE_UNKNOWN',\n",
              "   'form': 'FORM_UNKNOWN',\n",
              "   'gender': 'GENDER_UNKNOWN',\n",
              "   'mood': 'MOOD_UNKNOWN',\n",
              "   'number': 'SINGULAR',\n",
              "   'person': 'PERSON_UNKNOWN',\n",
              "   'proper': 'PROPER_UNKNOWN',\n",
              "   'reciprocity': 'RECIPROCITY_UNKNOWN',\n",
              "   'tag': 'NOUN',\n",
              "   'tense': 'TENSE_UNKNOWN',\n",
              "   'voice': 'VOICE_UNKNOWN'},\n",
              "  'text': {'beginOffset': 42, 'content': 'time'}},\n",
              " {'dependencyEdge': {'headTokenIndex': 8, 'label': 'P'},\n",
              "  'lemma': '-',\n",
              "  'partOfSpeech': {'aspect': 'ASPECT_UNKNOWN',\n",
              "   'case': 'CASE_UNKNOWN',\n",
              "   'form': 'FORM_UNKNOWN',\n",
              "   'gender': 'GENDER_UNKNOWN',\n",
              "   'mood': 'MOOD_UNKNOWN',\n",
              "   'number': 'NUMBER_UNKNOWN',\n",
              "   'person': 'PERSON_UNKNOWN',\n",
              "   'proper': 'PROPER_UNKNOWN',\n",
              "   'reciprocity': 'RECIPROCITY_UNKNOWN',\n",
              "   'tag': 'PUNCT',\n",
              "   'tense': 'TENSE_UNKNOWN',\n",
              "   'voice': 'VOICE_UNKNOWN'},\n",
              "  'text': {'beginOffset': 46, 'content': '-'}},\n",
              " {'dependencyEdge': {'headTokenIndex': 11, 'label': 'AMOD'},\n",
              "  'lemma': 'consume',\n",
              "  'partOfSpeech': {'aspect': 'ASPECT_UNKNOWN',\n",
              "   'case': 'CASE_UNKNOWN',\n",
              "   'form': 'FORM_UNKNOWN',\n",
              "   'gender': 'GENDER_UNKNOWN',\n",
              "   'mood': 'MOOD_UNKNOWN',\n",
              "   'number': 'NUMBER_UNKNOWN',\n",
              "   'person': 'PERSON_UNKNOWN',\n",
              "   'proper': 'PROPER_UNKNOWN',\n",
              "   'reciprocity': 'RECIPROCITY_UNKNOWN',\n",
              "   'tag': 'VERB',\n",
              "   'tense': 'TENSE_UNKNOWN',\n",
              "   'voice': 'VOICE_UNKNOWN'},\n",
              "  'text': {'beginOffset': 47, 'content': 'consuming'}},\n",
              " {'dependencyEdge': {'headTokenIndex': 8, 'label': 'CC'},\n",
              "  'lemma': 'and',\n",
              "  'partOfSpeech': {'aspect': 'ASPECT_UNKNOWN',\n",
              "   'case': 'CASE_UNKNOWN',\n",
              "   'form': 'FORM_UNKNOWN',\n",
              "   'gender': 'GENDER_UNKNOWN',\n",
              "   'mood': 'MOOD_UNKNOWN',\n",
              "   'number': 'NUMBER_UNKNOWN',\n",
              "   'person': 'PERSON_UNKNOWN',\n",
              "   'proper': 'PROPER_UNKNOWN',\n",
              "   'reciprocity': 'RECIPROCITY_UNKNOWN',\n",
              "   'tag': 'CONJ',\n",
              "   'tense': 'TENSE_UNKNOWN',\n",
              "   'voice': 'VOICE_UNKNOWN'},\n",
              "  'text': {'beginOffset': 57, 'content': 'and'}},\n",
              " {'dependencyEdge': {'headTokenIndex': 8, 'label': 'CONJ'},\n",
              "  'lemma': 'difficult',\n",
              "  'partOfSpeech': {'aspect': 'ASPECT_UNKNOWN',\n",
              "   'case': 'CASE_UNKNOWN',\n",
              "   'form': 'FORM_UNKNOWN',\n",
              "   'gender': 'GENDER_UNKNOWN',\n",
              "   'mood': 'MOOD_UNKNOWN',\n",
              "   'number': 'NUMBER_UNKNOWN',\n",
              "   'person': 'PERSON_UNKNOWN',\n",
              "   'proper': 'PROPER_UNKNOWN',\n",
              "   'reciprocity': 'RECIPROCITY_UNKNOWN',\n",
              "   'tag': 'ADJ',\n",
              "   'tense': 'TENSE_UNKNOWN',\n",
              "   'voice': 'VOICE_UNKNOWN'},\n",
              "  'text': {'beginOffset': 61, 'content': 'difficult'}},\n",
              " {'dependencyEdge': {'headTokenIndex': 5, 'label': 'ATTR'},\n",
              "  'lemma': 'work',\n",
              "  'partOfSpeech': {'aspect': 'ASPECT_UNKNOWN',\n",
              "   'case': 'CASE_UNKNOWN',\n",
              "   'form': 'FORM_UNKNOWN',\n",
              "   'gender': 'GENDER_UNKNOWN',\n",
              "   'mood': 'MOOD_UNKNOWN',\n",
              "   'number': 'SINGULAR',\n",
              "   'person': 'PERSON_UNKNOWN',\n",
              "   'proper': 'PROPER_UNKNOWN',\n",
              "   'reciprocity': 'RECIPROCITY_UNKNOWN',\n",
              "   'tag': 'NOUN',\n",
              "   'tense': 'TENSE_UNKNOWN',\n",
              "   'voice': 'VOICE_UNKNOWN'},\n",
              "  'text': {'beginOffset': 71, 'content': 'work'}},\n",
              " {'dependencyEdge': {'headTokenIndex': 11, 'label': 'PREP'},\n",
              "  'lemma': 'for',\n",
              "  'partOfSpeech': {'aspect': 'ASPECT_UNKNOWN',\n",
              "   'case': 'CASE_UNKNOWN',\n",
              "   'form': 'FORM_UNKNOWN',\n",
              "   'gender': 'GENDER_UNKNOWN',\n",
              "   'mood': 'MOOD_UNKNOWN',\n",
              "   'number': 'NUMBER_UNKNOWN',\n",
              "   'person': 'PERSON_UNKNOWN',\n",
              "   'proper': 'PROPER_UNKNOWN',\n",
              "   'reciprocity': 'RECIPROCITY_UNKNOWN',\n",
              "   'tag': 'ADP',\n",
              "   'tense': 'TENSE_UNKNOWN',\n",
              "   'voice': 'VOICE_UNKNOWN'},\n",
              "  'text': {'beginOffset': 76, 'content': 'for'}},\n",
              " {'dependencyEdge': {'headTokenIndex': 16, 'label': 'DET'},\n",
              "  'lemma': 'any',\n",
              "  'partOfSpeech': {'aspect': 'ASPECT_UNKNOWN',\n",
              "   'case': 'CASE_UNKNOWN',\n",
              "   'form': 'FORM_UNKNOWN',\n",
              "   'gender': 'GENDER_UNKNOWN',\n",
              "   'mood': 'MOOD_UNKNOWN',\n",
              "   'number': 'NUMBER_UNKNOWN',\n",
              "   'person': 'PERSON_UNKNOWN',\n",
              "   'proper': 'PROPER_UNKNOWN',\n",
              "   'reciprocity': 'RECIPROCITY_UNKNOWN',\n",
              "   'tag': 'DET',\n",
              "   'tense': 'TENSE_UNKNOWN',\n",
              "   'voice': 'VOICE_UNKNOWN'},\n",
              "  'text': {'beginOffset': 80, 'content': 'any'}},\n",
              " {'dependencyEdge': {'headTokenIndex': 15, 'label': 'NN'},\n",
              "  'lemma': 'data',\n",
              "  'partOfSpeech': {'aspect': 'ASPECT_UNKNOWN',\n",
              "   'case': 'CASE_UNKNOWN',\n",
              "   'form': 'FORM_UNKNOWN',\n",
              "   'gender': 'GENDER_UNKNOWN',\n",
              "   'mood': 'MOOD_UNKNOWN',\n",
              "   'number': 'SINGULAR',\n",
              "   'person': 'PERSON_UNKNOWN',\n",
              "   'proper': 'PROPER_UNKNOWN',\n",
              "   'reciprocity': 'RECIPROCITY_UNKNOWN',\n",
              "   'tag': 'NOUN',\n",
              "   'tense': 'TENSE_UNKNOWN',\n",
              "   'voice': 'VOICE_UNKNOWN'},\n",
              "  'text': {'beginOffset': 84, 'content': 'data'}},\n",
              " {'dependencyEdge': {'headTokenIndex': 16, 'label': 'NN'},\n",
              "  'lemma': 'science',\n",
              "  'partOfSpeech': {'aspect': 'ASPECT_UNKNOWN',\n",
              "   'case': 'CASE_UNKNOWN',\n",
              "   'form': 'FORM_UNKNOWN',\n",
              "   'gender': 'GENDER_UNKNOWN',\n",
              "   'mood': 'MOOD_UNKNOWN',\n",
              "   'number': 'SINGULAR',\n",
              "   'person': 'PERSON_UNKNOWN',\n",
              "   'proper': 'PROPER_UNKNOWN',\n",
              "   'reciprocity': 'RECIPROCITY_UNKNOWN',\n",
              "   'tag': 'NOUN',\n",
              "   'tense': 'TENSE_UNKNOWN',\n",
              "   'voice': 'VOICE_UNKNOWN'},\n",
              "  'text': {'beginOffset': 89, 'content': 'science'}},\n",
              " {'dependencyEdge': {'headTokenIndex': 12, 'label': 'POBJ'},\n",
              "  'lemma': 'team',\n",
              "  'partOfSpeech': {'aspect': 'ASPECT_UNKNOWN',\n",
              "   'case': 'CASE_UNKNOWN',\n",
              "   'form': 'FORM_UNKNOWN',\n",
              "   'gender': 'GENDER_UNKNOWN',\n",
              "   'mood': 'MOOD_UNKNOWN',\n",
              "   'number': 'SINGULAR',\n",
              "   'person': 'PERSON_UNKNOWN',\n",
              "   'proper': 'PROPER_UNKNOWN',\n",
              "   'reciprocity': 'RECIPROCITY_UNKNOWN',\n",
              "   'tag': 'NOUN',\n",
              "   'tense': 'TENSE_UNKNOWN',\n",
              "   'voice': 'VOICE_UNKNOWN'},\n",
              "  'text': {'beginOffset': 97, 'content': 'team'}},\n",
              " {'dependencyEdge': {'headTokenIndex': 5, 'label': 'P'},\n",
              "  'lemma': ',',\n",
              "  'partOfSpeech': {'aspect': 'ASPECT_UNKNOWN',\n",
              "   'case': 'CASE_UNKNOWN',\n",
              "   'form': 'FORM_UNKNOWN',\n",
              "   'gender': 'GENDER_UNKNOWN',\n",
              "   'mood': 'MOOD_UNKNOWN',\n",
              "   'number': 'NUMBER_UNKNOWN',\n",
              "   'person': 'PERSON_UNKNOWN',\n",
              "   'proper': 'PROPER_UNKNOWN',\n",
              "   'reciprocity': 'RECIPROCITY_UNKNOWN',\n",
              "   'tag': 'PUNCT',\n",
              "   'tense': 'TENSE_UNKNOWN',\n",
              "   'voice': 'VOICE_UNKNOWN'},\n",
              "  'text': {'beginOffset': 101, 'content': ','}},\n",
              " {'dependencyEdge': {'headTokenIndex': 5, 'label': 'CC'},\n",
              "  'lemma': 'but',\n",
              "  'partOfSpeech': {'aspect': 'ASPECT_UNKNOWN',\n",
              "   'case': 'CASE_UNKNOWN',\n",
              "   'form': 'FORM_UNKNOWN',\n",
              "   'gender': 'GENDER_UNKNOWN',\n",
              "   'mood': 'MOOD_UNKNOWN',\n",
              "   'number': 'NUMBER_UNKNOWN',\n",
              "   'person': 'PERSON_UNKNOWN',\n",
              "   'proper': 'PROPER_UNKNOWN',\n",
              "   'reciprocity': 'RECIPROCITY_UNKNOWN',\n",
              "   'tag': 'CONJ',\n",
              "   'tense': 'TENSE_UNKNOWN',\n",
              "   'voice': 'VOICE_UNKNOWN'},\n",
              "  'text': {'beginOffset': 103, 'content': 'but'}},\n",
              " {'dependencyEdge': {'headTokenIndex': 21, 'label': 'NN'},\n",
              "  'lemma': 'Cloud',\n",
              "  'partOfSpeech': {'aspect': 'ASPECT_UNKNOWN',\n",
              "   'case': 'CASE_UNKNOWN',\n",
              "   'form': 'FORM_UNKNOWN',\n",
              "   'gender': 'GENDER_UNKNOWN',\n",
              "   'mood': 'MOOD_UNKNOWN',\n",
              "   'number': 'SINGULAR',\n",
              "   'person': 'PERSON_UNKNOWN',\n",
              "   'proper': 'PROPER',\n",
              "   'reciprocity': 'RECIPROCITY_UNKNOWN',\n",
              "   'tag': 'NOUN',\n",
              "   'tense': 'TENSE_UNKNOWN',\n",
              "   'voice': 'VOICE_UNKNOWN'},\n",
              "  'text': {'beginOffset': 107, 'content': 'Cloud'}},\n",
              " {'dependencyEdge': {'headTokenIndex': 21, 'label': 'NN'},\n",
              "  'lemma': 'Natural',\n",
              "  'partOfSpeech': {'aspect': 'ASPECT_UNKNOWN',\n",
              "   'case': 'CASE_UNKNOWN',\n",
              "   'form': 'FORM_UNKNOWN',\n",
              "   'gender': 'GENDER_UNKNOWN',\n",
              "   'mood': 'MOOD_UNKNOWN',\n",
              "   'number': 'SINGULAR',\n",
              "   'person': 'PERSON_UNKNOWN',\n",
              "   'proper': 'PROPER',\n",
              "   'reciprocity': 'RECIPROCITY_UNKNOWN',\n",
              "   'tag': 'NOUN',\n",
              "   'tense': 'TENSE_UNKNOWN',\n",
              "   'voice': 'VOICE_UNKNOWN'},\n",
              "  'text': {'beginOffset': 113, 'content': 'Natural'}},\n",
              " {'dependencyEdge': {'headTokenIndex': 22, 'label': 'NSUBJ'},\n",
              "  'lemma': 'Language',\n",
              "  'partOfSpeech': {'aspect': 'ASPECT_UNKNOWN',\n",
              "   'case': 'CASE_UNKNOWN',\n",
              "   'form': 'FORM_UNKNOWN',\n",
              "   'gender': 'GENDER_UNKNOWN',\n",
              "   'mood': 'MOOD_UNKNOWN',\n",
              "   'number': 'SINGULAR',\n",
              "   'person': 'PERSON_UNKNOWN',\n",
              "   'proper': 'PROPER',\n",
              "   'reciprocity': 'RECIPROCITY_UNKNOWN',\n",
              "   'tag': 'NOUN',\n",
              "   'tense': 'TENSE_UNKNOWN',\n",
              "   'voice': 'VOICE_UNKNOWN'},\n",
              "  'text': {'beginOffset': 121, 'content': 'Language'}},\n",
              " {'dependencyEdge': {'headTokenIndex': 5, 'label': 'CONJ'},\n",
              "  'lemma': 'be',\n",
              "  'partOfSpeech': {'aspect': 'ASPECT_UNKNOWN',\n",
              "   'case': 'CASE_UNKNOWN',\n",
              "   'form': 'FORM_UNKNOWN',\n",
              "   'gender': 'GENDER_UNKNOWN',\n",
              "   'mood': 'INDICATIVE',\n",
              "   'number': 'SINGULAR',\n",
              "   'person': 'THIRD',\n",
              "   'proper': 'PROPER_UNKNOWN',\n",
              "   'reciprocity': 'RECIPROCITY_UNKNOWN',\n",
              "   'tag': 'VERB',\n",
              "   'tense': 'PAST',\n",
              "   'voice': 'VOICE_UNKNOWN'},\n",
              "  'text': {'beginOffset': 130, 'content': 'was'}},\n",
              " {'dependencyEdge': {'headTokenIndex': 22, 'label': 'ACOMP'},\n",
              "  'lemma': 'able',\n",
              "  'partOfSpeech': {'aspect': 'ASPECT_UNKNOWN',\n",
              "   'case': 'CASE_UNKNOWN',\n",
              "   'form': 'FORM_UNKNOWN',\n",
              "   'gender': 'GENDER_UNKNOWN',\n",
              "   'mood': 'MOOD_UNKNOWN',\n",
              "   'number': 'NUMBER_UNKNOWN',\n",
              "   'person': 'PERSON_UNKNOWN',\n",
              "   'proper': 'PROPER_UNKNOWN',\n",
              "   'reciprocity': 'RECIPROCITY_UNKNOWN',\n",
              "   'tag': 'ADJ',\n",
              "   'tense': 'TENSE_UNKNOWN',\n",
              "   'voice': 'VOICE_UNKNOWN'},\n",
              "  'text': {'beginOffset': 134, 'content': 'able'}},\n",
              " {'dependencyEdge': {'headTokenIndex': 26, 'label': 'AUX'},\n",
              "  'lemma': 'to',\n",
              "  'partOfSpeech': {'aspect': 'ASPECT_UNKNOWN',\n",
              "   'case': 'CASE_UNKNOWN',\n",
              "   'form': 'FORM_UNKNOWN',\n",
              "   'gender': 'GENDER_UNKNOWN',\n",
              "   'mood': 'MOOD_UNKNOWN',\n",
              "   'number': 'NUMBER_UNKNOWN',\n",
              "   'person': 'PERSON_UNKNOWN',\n",
              "   'proper': 'PROPER_UNKNOWN',\n",
              "   'reciprocity': 'RECIPROCITY_UNKNOWN',\n",
              "   'tag': 'PRT',\n",
              "   'tense': 'TENSE_UNKNOWN',\n",
              "   'voice': 'VOICE_UNKNOWN'},\n",
              "  'text': {'beginOffset': 139, 'content': 'to'}},\n",
              " {'dependencyEdge': {'headTokenIndex': 26, 'label': 'ADVMOD'},\n",
              "  'lemma': 'instantly',\n",
              "  'partOfSpeech': {'aspect': 'ASPECT_UNKNOWN',\n",
              "   'case': 'CASE_UNKNOWN',\n",
              "   'form': 'FORM_UNKNOWN',\n",
              "   'gender': 'GENDER_UNKNOWN',\n",
              "   'mood': 'MOOD_UNKNOWN',\n",
              "   'number': 'NUMBER_UNKNOWN',\n",
              "   'person': 'PERSON_UNKNOWN',\n",
              "   'proper': 'PROPER_UNKNOWN',\n",
              "   'reciprocity': 'RECIPROCITY_UNKNOWN',\n",
              "   'tag': 'ADV',\n",
              "   'tense': 'TENSE_UNKNOWN',\n",
              "   'voice': 'VOICE_UNKNOWN'},\n",
              "  'text': {'beginOffset': 142, 'content': 'instantly'}},\n",
              " {'dependencyEdge': {'headTokenIndex': 23, 'label': 'XCOMP'},\n",
              "  'lemma': 'identify',\n",
              "  'partOfSpeech': {'aspect': 'ASPECT_UNKNOWN',\n",
              "   'case': 'CASE_UNKNOWN',\n",
              "   'form': 'FORM_UNKNOWN',\n",
              "   'gender': 'GENDER_UNKNOWN',\n",
              "   'mood': 'MOOD_UNKNOWN',\n",
              "   'number': 'NUMBER_UNKNOWN',\n",
              "   'person': 'PERSON_UNKNOWN',\n",
              "   'proper': 'PROPER_UNKNOWN',\n",
              "   'reciprocity': 'RECIPROCITY_UNKNOWN',\n",
              "   'tag': 'VERB',\n",
              "   'tense': 'TENSE_UNKNOWN',\n",
              "   'voice': 'VOICE_UNKNOWN'},\n",
              "  'text': {'beginOffset': 152, 'content': 'identify'}},\n",
              " {'dependencyEdge': {'headTokenIndex': 28, 'label': 'AMOD'},\n",
              "  'lemma': 'clear',\n",
              "  'partOfSpeech': {'aspect': 'ASPECT_UNKNOWN',\n",
              "   'case': 'CASE_UNKNOWN',\n",
              "   'form': 'FORM_UNKNOWN',\n",
              "   'gender': 'GENDER_UNKNOWN',\n",
              "   'mood': 'MOOD_UNKNOWN',\n",
              "   'number': 'NUMBER_UNKNOWN',\n",
              "   'person': 'PERSON_UNKNOWN',\n",
              "   'proper': 'PROPER_UNKNOWN',\n",
              "   'reciprocity': 'RECIPROCITY_UNKNOWN',\n",
              "   'tag': 'ADJ',\n",
              "   'tense': 'TENSE_UNKNOWN',\n",
              "   'voice': 'VOICE_UNKNOWN'},\n",
              "  'text': {'beginOffset': 161, 'content': 'clear'}},\n",
              " {'dependencyEdge': {'headTokenIndex': 26, 'label': 'DOBJ'},\n",
              "  'lemma': 'topic',\n",
              "  'partOfSpeech': {'aspect': 'ASPECT_UNKNOWN',\n",
              "   'case': 'CASE_UNKNOWN',\n",
              "   'form': 'FORM_UNKNOWN',\n",
              "   'gender': 'GENDER_UNKNOWN',\n",
              "   'mood': 'MOOD_UNKNOWN',\n",
              "   'number': 'PLURAL',\n",
              "   'person': 'PERSON_UNKNOWN',\n",
              "   'proper': 'PROPER_UNKNOWN',\n",
              "   'reciprocity': 'RECIPROCITY_UNKNOWN',\n",
              "   'tag': 'NOUN',\n",
              "   'tense': 'TENSE_UNKNOWN',\n",
              "   'voice': 'VOICE_UNKNOWN'},\n",
              "  'text': {'beginOffset': 167, 'content': 'topics'}},\n",
              " {'dependencyEdge': {'headTokenIndex': 26, 'label': 'PREP'},\n",
              "  'lemma': 'with',\n",
              "  'partOfSpeech': {'aspect': 'ASPECT_UNKNOWN',\n",
              "   'case': 'CASE_UNKNOWN',\n",
              "   'form': 'FORM_UNKNOWN',\n",
              "   'gender': 'GENDER_UNKNOWN',\n",
              "   'mood': 'MOOD_UNKNOWN',\n",
              "   'number': 'NUMBER_UNKNOWN',\n",
              "   'person': 'PERSON_UNKNOWN',\n",
              "   'proper': 'PROPER_UNKNOWN',\n",
              "   'reciprocity': 'RECIPROCITY_UNKNOWN',\n",
              "   'tag': 'ADP',\n",
              "   'tense': 'TENSE_UNKNOWN',\n",
              "   'voice': 'VOICE_UNKNOWN'},\n",
              "  'text': {'beginOffset': 174, 'content': 'with'}},\n",
              " {'dependencyEdge': {'headTokenIndex': 33, 'label': 'DET'},\n",
              "  'lemma': 'a',\n",
              "  'partOfSpeech': {'aspect': 'ASPECT_UNKNOWN',\n",
              "   'case': 'CASE_UNKNOWN',\n",
              "   'form': 'FORM_UNKNOWN',\n",
              "   'gender': 'GENDER_UNKNOWN',\n",
              "   'mood': 'MOOD_UNKNOWN',\n",
              "   'number': 'NUMBER_UNKNOWN',\n",
              "   'person': 'PERSON_UNKNOWN',\n",
              "   'proper': 'PROPER_UNKNOWN',\n",
              "   'reciprocity': 'RECIPROCITY_UNKNOWN',\n",
              "   'tag': 'DET',\n",
              "   'tense': 'TENSE_UNKNOWN',\n",
              "   'voice': 'VOICE_UNKNOWN'},\n",
              "  'text': {'beginOffset': 179, 'content': 'a'}},\n",
              " {'dependencyEdge': {'headTokenIndex': 33, 'label': 'AMOD'},\n",
              "  'lemma': 'high',\n",
              "  'partOfSpeech': {'aspect': 'ASPECT_UNKNOWN',\n",
              "   'case': 'CASE_UNKNOWN',\n",
              "   'form': 'FORM_UNKNOWN',\n",
              "   'gender': 'GENDER_UNKNOWN',\n",
              "   'mood': 'MOOD_UNKNOWN',\n",
              "   'number': 'NUMBER_UNKNOWN',\n",
              "   'person': 'PERSON_UNKNOWN',\n",
              "   'proper': 'PROPER_UNKNOWN',\n",
              "   'reciprocity': 'RECIPROCITY_UNKNOWN',\n",
              "   'tag': 'ADJ',\n",
              "   'tense': 'TENSE_UNKNOWN',\n",
              "   'voice': 'VOICE_UNKNOWN'},\n",
              "  'text': {'beginOffset': 181, 'content': 'high'}},\n",
              " {'dependencyEdge': {'headTokenIndex': 33, 'label': 'P'},\n",
              "  'lemma': '-',\n",
              "  'partOfSpeech': {'aspect': 'ASPECT_UNKNOWN',\n",
              "   'case': 'CASE_UNKNOWN',\n",
              "   'form': 'FORM_UNKNOWN',\n",
              "   'gender': 'GENDER_UNKNOWN',\n",
              "   'mood': 'MOOD_UNKNOWN',\n",
              "   'number': 'NUMBER_UNKNOWN',\n",
              "   'person': 'PERSON_UNKNOWN',\n",
              "   'proper': 'PROPER_UNKNOWN',\n",
              "   'reciprocity': 'RECIPROCITY_UNKNOWN',\n",
              "   'tag': 'PUNCT',\n",
              "   'tense': 'TENSE_UNKNOWN',\n",
              "   'voice': 'VOICE_UNKNOWN'},\n",
              "  'text': {'beginOffset': 185, 'content': '-'}},\n",
              " {'dependencyEdge': {'headTokenIndex': 29, 'label': 'POBJ'},\n",
              "  'lemma': 'level',\n",
              "  'partOfSpeech': {'aspect': 'ASPECT_UNKNOWN',\n",
              "   'case': 'CASE_UNKNOWN',\n",
              "   'form': 'FORM_UNKNOWN',\n",
              "   'gender': 'GENDER_UNKNOWN',\n",
              "   'mood': 'MOOD_UNKNOWN',\n",
              "   'number': 'SINGULAR',\n",
              "   'person': 'PERSON_UNKNOWN',\n",
              "   'proper': 'PROPER_UNKNOWN',\n",
              "   'reciprocity': 'RECIPROCITY_UNKNOWN',\n",
              "   'tag': 'NOUN',\n",
              "   'tense': 'TENSE_UNKNOWN',\n",
              "   'voice': 'VOICE_UNKNOWN'},\n",
              "  'text': {'beginOffset': 186, 'content': 'level'}},\n",
              " {'dependencyEdge': {'headTokenIndex': 33, 'label': 'PREP'},\n",
              "  'lemma': 'of',\n",
              "  'partOfSpeech': {'aspect': 'ASPECT_UNKNOWN',\n",
              "   'case': 'CASE_UNKNOWN',\n",
              "   'form': 'FORM_UNKNOWN',\n",
              "   'gender': 'GENDER_UNKNOWN',\n",
              "   'mood': 'MOOD_UNKNOWN',\n",
              "   'number': 'NUMBER_UNKNOWN',\n",
              "   'person': 'PERSON_UNKNOWN',\n",
              "   'proper': 'PROPER_UNKNOWN',\n",
              "   'reciprocity': 'RECIPROCITY_UNKNOWN',\n",
              "   'tag': 'ADP',\n",
              "   'tense': 'TENSE_UNKNOWN',\n",
              "   'voice': 'VOICE_UNKNOWN'},\n",
              "  'text': {'beginOffset': 192, 'content': 'of'}},\n",
              " {'dependencyEdge': {'headTokenIndex': 34, 'label': 'POBJ'},\n",
              "  'lemma': 'confidence',\n",
              "  'partOfSpeech': {'aspect': 'ASPECT_UNKNOWN',\n",
              "   'case': 'CASE_UNKNOWN',\n",
              "   'form': 'FORM_UNKNOWN',\n",
              "   'gender': 'GENDER_UNKNOWN',\n",
              "   'mood': 'MOOD_UNKNOWN',\n",
              "   'number': 'SINGULAR',\n",
              "   'person': 'PERSON_UNKNOWN',\n",
              "   'proper': 'PROPER_UNKNOWN',\n",
              "   'reciprocity': 'RECIPROCITY_UNKNOWN',\n",
              "   'tag': 'NOUN',\n",
              "   'tense': 'TENSE_UNKNOWN',\n",
              "   'voice': 'VOICE_UNKNOWN'},\n",
              "  'text': {'beginOffset': 195, 'content': 'confidence'}},\n",
              " {'dependencyEdge': {'headTokenIndex': 5, 'label': 'P'},\n",
              "  'lemma': '.',\n",
              "  'partOfSpeech': {'aspect': 'ASPECT_UNKNOWN',\n",
              "   'case': 'CASE_UNKNOWN',\n",
              "   'form': 'FORM_UNKNOWN',\n",
              "   'gender': 'GENDER_UNKNOWN',\n",
              "   'mood': 'MOOD_UNKNOWN',\n",
              "   'number': 'NUMBER_UNKNOWN',\n",
              "   'person': 'PERSON_UNKNOWN',\n",
              "   'proper': 'PROPER_UNKNOWN',\n",
              "   'reciprocity': 'RECIPROCITY_UNKNOWN',\n",
              "   'tag': 'PUNCT',\n",
              "   'tense': 'TENSE_UNKNOWN',\n",
              "   'voice': 'VOICE_UNKNOWN'},\n",
              "  'text': {'beginOffset': 205, 'content': '.'}},\n",
              " {'dependencyEdge': {'headTokenIndex': 38, 'label': 'DET'},\n",
              "  'lemma': 'This',\n",
              "  'partOfSpeech': {'aspect': 'ASPECT_UNKNOWN',\n",
              "   'case': 'CASE_UNKNOWN',\n",
              "   'form': 'FORM_UNKNOWN',\n",
              "   'gender': 'GENDER_UNKNOWN',\n",
              "   'mood': 'MOOD_UNKNOWN',\n",
              "   'number': 'SINGULAR',\n",
              "   'person': 'PERSON_UNKNOWN',\n",
              "   'proper': 'PROPER_UNKNOWN',\n",
              "   'reciprocity': 'RECIPROCITY_UNKNOWN',\n",
              "   'tag': 'DET',\n",
              "   'tense': 'TENSE_UNKNOWN',\n",
              "   'voice': 'VOICE_UNKNOWN'},\n",
              "  'text': {'beginOffset': 207, 'content': 'This'}},\n",
              " {'dependencyEdge': {'headTokenIndex': 40, 'label': 'NSUBJ'},\n",
              "  'lemma': 'tool',\n",
              "  'partOfSpeech': {'aspect': 'ASPECT_UNKNOWN',\n",
              "   'case': 'CASE_UNKNOWN',\n",
              "   'form': 'FORM_UNKNOWN',\n",
              "   'gender': 'GENDER_UNKNOWN',\n",
              "   'mood': 'MOOD_UNKNOWN',\n",
              "   'number': 'SINGULAR',\n",
              "   'person': 'PERSON_UNKNOWN',\n",
              "   'proper': 'PROPER_UNKNOWN',\n",
              "   'reciprocity': 'RECIPROCITY_UNKNOWN',\n",
              "   'tag': 'NOUN',\n",
              "   'tense': 'TENSE_UNKNOWN',\n",
              "   'voice': 'VOICE_UNKNOWN'},\n",
              "  'text': {'beginOffset': 212, 'content': 'tool'}},\n",
              " {'dependencyEdge': {'headTokenIndex': 40, 'label': 'AUX'},\n",
              "  'lemma': 'have',\n",
              "  'partOfSpeech': {'aspect': 'ASPECT_UNKNOWN',\n",
              "   'case': 'CASE_UNKNOWN',\n",
              "   'form': 'FORM_UNKNOWN',\n",
              "   'gender': 'GENDER_UNKNOWN',\n",
              "   'mood': 'INDICATIVE',\n",
              "   'number': 'SINGULAR',\n",
              "   'person': 'THIRD',\n",
              "   'proper': 'PROPER_UNKNOWN',\n",
              "   'reciprocity': 'RECIPROCITY_UNKNOWN',\n",
              "   'tag': 'VERB',\n",
              "   'tense': 'PRESENT',\n",
              "   'voice': 'VOICE_UNKNOWN'},\n",
              "  'text': {'beginOffset': 217, 'content': 'has'}},\n",
              " {'dependencyEdge': {'headTokenIndex': 40, 'label': 'ROOT'},\n",
              "  'lemma': 'save',\n",
              "  'partOfSpeech': {'aspect': 'ASPECT_UNKNOWN',\n",
              "   'case': 'CASE_UNKNOWN',\n",
              "   'form': 'FORM_UNKNOWN',\n",
              "   'gender': 'GENDER_UNKNOWN',\n",
              "   'mood': 'MOOD_UNKNOWN',\n",
              "   'number': 'NUMBER_UNKNOWN',\n",
              "   'person': 'PERSON_UNKNOWN',\n",
              "   'proper': 'PROPER_UNKNOWN',\n",
              "   'reciprocity': 'RECIPROCITY_UNKNOWN',\n",
              "   'tag': 'VERB',\n",
              "   'tense': 'PAST',\n",
              "   'voice': 'VOICE_UNKNOWN'},\n",
              "  'text': {'beginOffset': 221, 'content': 'saved'}},\n",
              " {'dependencyEdge': {'headTokenIndex': 40, 'label': 'DOBJ'},\n",
              "  'lemma': 'me',\n",
              "  'partOfSpeech': {'aspect': 'ASPECT_UNKNOWN',\n",
              "   'case': 'ACCUSATIVE',\n",
              "   'form': 'FORM_UNKNOWN',\n",
              "   'gender': 'GENDER_UNKNOWN',\n",
              "   'mood': 'MOOD_UNKNOWN',\n",
              "   'number': 'SINGULAR',\n",
              "   'person': 'FIRST',\n",
              "   'proper': 'PROPER_UNKNOWN',\n",
              "   'reciprocity': 'RECIPROCITY_UNKNOWN',\n",
              "   'tag': 'PRON',\n",
              "   'tense': 'TENSE_UNKNOWN',\n",
              "   'voice': 'VOICE_UNKNOWN'},\n",
              "  'text': {'beginOffset': 227, 'content': 'me'}},\n",
              " {'dependencyEdge': {'headTokenIndex': 40, 'label': 'TMOD'},\n",
              "  'lemma': 'week',\n",
              "  'partOfSpeech': {'aspect': 'ASPECT_UNKNOWN',\n",
              "   'case': 'CASE_UNKNOWN',\n",
              "   'form': 'FORM_UNKNOWN',\n",
              "   'gender': 'GENDER_UNKNOWN',\n",
              "   'mood': 'MOOD_UNKNOWN',\n",
              "   'number': 'PLURAL',\n",
              "   'person': 'PERSON_UNKNOWN',\n",
              "   'proper': 'PROPER_UNKNOWN',\n",
              "   'reciprocity': 'RECIPROCITY_UNKNOWN',\n",
              "   'tag': 'NOUN',\n",
              "   'tense': 'TENSE_UNKNOWN',\n",
              "   'voice': 'VOICE_UNKNOWN'},\n",
              "  'text': {'beginOffset': 230, 'content': 'weeks'}},\n",
              " {'dependencyEdge': {'headTokenIndex': 40, 'label': 'P'},\n",
              "  'lemma': ',',\n",
              "  'partOfSpeech': {'aspect': 'ASPECT_UNKNOWN',\n",
              "   'case': 'CASE_UNKNOWN',\n",
              "   'form': 'FORM_UNKNOWN',\n",
              "   'gender': 'GENDER_UNKNOWN',\n",
              "   'mood': 'MOOD_UNKNOWN',\n",
              "   'number': 'NUMBER_UNKNOWN',\n",
              "   'person': 'PERSON_UNKNOWN',\n",
              "   'proper': 'PROPER_UNKNOWN',\n",
              "   'reciprocity': 'RECIPROCITY_UNKNOWN',\n",
              "   'tag': 'PUNCT',\n",
              "   'tense': 'TENSE_UNKNOWN',\n",
              "   'voice': 'VOICE_UNKNOWN'},\n",
              "  'text': {'beginOffset': 235, 'content': ','}},\n",
              " {'dependencyEdge': {'headTokenIndex': 46, 'label': 'MARK'},\n",
              "  'lemma': 'if',\n",
              "  'partOfSpeech': {'aspect': 'ASPECT_UNKNOWN',\n",
              "   'case': 'CASE_UNKNOWN',\n",
              "   'form': 'FORM_UNKNOWN',\n",
              "   'gender': 'GENDER_UNKNOWN',\n",
              "   'mood': 'MOOD_UNKNOWN',\n",
              "   'number': 'NUMBER_UNKNOWN',\n",
              "   'person': 'PERSON_UNKNOWN',\n",
              "   'proper': 'PROPER_UNKNOWN',\n",
              "   'reciprocity': 'RECIPROCITY_UNKNOWN',\n",
              "   'tag': 'ADP',\n",
              "   'tense': 'TENSE_UNKNOWN',\n",
              "   'voice': 'VOICE_UNKNOWN'},\n",
              "  'text': {'beginOffset': 237, 'content': 'if'}},\n",
              " {'dependencyEdge': {'headTokenIndex': 46, 'label': 'NEG'},\n",
              "  'lemma': 'not',\n",
              "  'partOfSpeech': {'aspect': 'ASPECT_UNKNOWN',\n",
              "   'case': 'CASE_UNKNOWN',\n",
              "   'form': 'FORM_UNKNOWN',\n",
              "   'gender': 'GENDER_UNKNOWN',\n",
              "   'mood': 'MOOD_UNKNOWN',\n",
              "   'number': 'NUMBER_UNKNOWN',\n",
              "   'person': 'PERSON_UNKNOWN',\n",
              "   'proper': 'PROPER_UNKNOWN',\n",
              "   'reciprocity': 'RECIPROCITY_UNKNOWN',\n",
              "   'tag': 'ADV',\n",
              "   'tense': 'TENSE_UNKNOWN',\n",
              "   'voice': 'VOICE_UNKNOWN'},\n",
              "  'text': {'beginOffset': 240, 'content': 'not'}},\n",
              " {'dependencyEdge': {'headTokenIndex': 40, 'label': 'ADVCL'},\n",
              "  'lemma': 'month',\n",
              "  'partOfSpeech': {'aspect': 'ASPECT_UNKNOWN',\n",
              "   'case': 'CASE_UNKNOWN',\n",
              "   'form': 'FORM_UNKNOWN',\n",
              "   'gender': 'GENDER_UNKNOWN',\n",
              "   'mood': 'MOOD_UNKNOWN',\n",
              "   'number': 'PLURAL',\n",
              "   'person': 'PERSON_UNKNOWN',\n",
              "   'proper': 'PROPER_UNKNOWN',\n",
              "   'reciprocity': 'RECIPROCITY_UNKNOWN',\n",
              "   'tag': 'NOUN',\n",
              "   'tense': 'TENSE_UNKNOWN',\n",
              "   'voice': 'VOICE_UNKNOWN'},\n",
              "  'text': {'beginOffset': 244, 'content': 'months'}},\n",
              " {'dependencyEdge': {'headTokenIndex': 40, 'label': 'P'},\n",
              "  'lemma': ',',\n",
              "  'partOfSpeech': {'aspect': 'ASPECT_UNKNOWN',\n",
              "   'case': 'CASE_UNKNOWN',\n",
              "   'form': 'FORM_UNKNOWN',\n",
              "   'gender': 'GENDER_UNKNOWN',\n",
              "   'mood': 'MOOD_UNKNOWN',\n",
              "   'number': 'NUMBER_UNKNOWN',\n",
              "   'person': 'PERSON_UNKNOWN',\n",
              "   'proper': 'PROPER_UNKNOWN',\n",
              "   'reciprocity': 'RECIPROCITY_UNKNOWN',\n",
              "   'tag': 'PUNCT',\n",
              "   'tense': 'TENSE_UNKNOWN',\n",
              "   'voice': 'VOICE_UNKNOWN'},\n",
              "  'text': {'beginOffset': 250, 'content': ','}},\n",
              " {'dependencyEdge': {'headTokenIndex': 40, 'label': 'PREP'},\n",
              "  'lemma': 'of',\n",
              "  'partOfSpeech': {'aspect': 'ASPECT_UNKNOWN',\n",
              "   'case': 'CASE_UNKNOWN',\n",
              "   'form': 'FORM_UNKNOWN',\n",
              "   'gender': 'GENDER_UNKNOWN',\n",
              "   'mood': 'MOOD_UNKNOWN',\n",
              "   'number': 'NUMBER_UNKNOWN',\n",
              "   'person': 'PERSON_UNKNOWN',\n",
              "   'proper': 'PROPER_UNKNOWN',\n",
              "   'reciprocity': 'RECIPROCITY_UNKNOWN',\n",
              "   'tag': 'ADP',\n",
              "   'tense': 'TENSE_UNKNOWN',\n",
              "   'voice': 'VOICE_UNKNOWN'},\n",
              "  'text': {'beginOffset': 252, 'content': 'of'}},\n",
              " {'dependencyEdge': {'headTokenIndex': 48, 'label': 'POBJ'},\n",
              "  'lemma': 'work',\n",
              "  'partOfSpeech': {'aspect': 'ASPECT_UNKNOWN',\n",
              "   'case': 'CASE_UNKNOWN',\n",
              "   'form': 'FORM_UNKNOWN',\n",
              "   'gender': 'GENDER_UNKNOWN',\n",
              "   'mood': 'MOOD_UNKNOWN',\n",
              "   'number': 'SINGULAR',\n",
              "   'person': 'PERSON_UNKNOWN',\n",
              "   'proper': 'PROPER_UNKNOWN',\n",
              "   'reciprocity': 'RECIPROCITY_UNKNOWN',\n",
              "   'tag': 'NOUN',\n",
              "   'tense': 'TENSE_UNKNOWN',\n",
              "   'voice': 'VOICE_UNKNOWN'},\n",
              "  'text': {'beginOffset': 255, 'content': 'work'}},\n",
              " {'dependencyEdge': {'headTokenIndex': 51, 'label': 'AUX'},\n",
              "  'lemma': 'to',\n",
              "  'partOfSpeech': {'aspect': 'ASPECT_UNKNOWN',\n",
              "   'case': 'CASE_UNKNOWN',\n",
              "   'form': 'FORM_UNKNOWN',\n",
              "   'gender': 'GENDER_UNKNOWN',\n",
              "   'mood': 'MOOD_UNKNOWN',\n",
              "   'number': 'NUMBER_UNKNOWN',\n",
              "   'person': 'PERSON_UNKNOWN',\n",
              "   'proper': 'PROPER_UNKNOWN',\n",
              "   'reciprocity': 'RECIPROCITY_UNKNOWN',\n",
              "   'tag': 'PRT',\n",
              "   'tense': 'TENSE_UNKNOWN',\n",
              "   'voice': 'VOICE_UNKNOWN'},\n",
              "  'text': {'beginOffset': 260, 'content': 'to'}},\n",
              " {'dependencyEdge': {'headTokenIndex': 40, 'label': 'XCOMP'},\n",
              "  'lemma': 'achieve',\n",
              "  'partOfSpeech': {'aspect': 'ASPECT_UNKNOWN',\n",
              "   'case': 'CASE_UNKNOWN',\n",
              "   'form': 'FORM_UNKNOWN',\n",
              "   'gender': 'GENDER_UNKNOWN',\n",
              "   'mood': 'MOOD_UNKNOWN',\n",
              "   'number': 'NUMBER_UNKNOWN',\n",
              "   'person': 'PERSON_UNKNOWN',\n",
              "   'proper': 'PROPER_UNKNOWN',\n",
              "   'reciprocity': 'RECIPROCITY_UNKNOWN',\n",
              "   'tag': 'VERB',\n",
              "   'tense': 'TENSE_UNKNOWN',\n",
              "   'voice': 'VOICE_UNKNOWN'},\n",
              "  'text': {'beginOffset': 263, 'content': 'achieve'}},\n",
              " {'dependencyEdge': {'headTokenIndex': 53, 'label': 'DET'},\n",
              "  'lemma': 'a',\n",
              "  'partOfSpeech': {'aspect': 'ASPECT_UNKNOWN',\n",
              "   'case': 'CASE_UNKNOWN',\n",
              "   'form': 'FORM_UNKNOWN',\n",
              "   'gender': 'GENDER_UNKNOWN',\n",
              "   'mood': 'MOOD_UNKNOWN',\n",
              "   'number': 'NUMBER_UNKNOWN',\n",
              "   'person': 'PERSON_UNKNOWN',\n",
              "   'proper': 'PROPER_UNKNOWN',\n",
              "   'reciprocity': 'RECIPROCITY_UNKNOWN',\n",
              "   'tag': 'DET',\n",
              "   'tense': 'TENSE_UNKNOWN',\n",
              "   'voice': 'VOICE_UNKNOWN'},\n",
              "  'text': {'beginOffset': 271, 'content': 'a'}},\n",
              " {'dependencyEdge': {'headTokenIndex': 51, 'label': 'DOBJ'},\n",
              "  'lemma': 'level',\n",
              "  'partOfSpeech': {'aspect': 'ASPECT_UNKNOWN',\n",
              "   'case': 'CASE_UNKNOWN',\n",
              "   'form': 'FORM_UNKNOWN',\n",
              "   'gender': 'GENDER_UNKNOWN',\n",
              "   'mood': 'MOOD_UNKNOWN',\n",
              "   'number': 'SINGULAR',\n",
              "   'person': 'PERSON_UNKNOWN',\n",
              "   'proper': 'PROPER_UNKNOWN',\n",
              "   'reciprocity': 'RECIPROCITY_UNKNOWN',\n",
              "   'tag': 'NOUN',\n",
              "   'tense': 'TENSE_UNKNOWN',\n",
              "   'voice': 'VOICE_UNKNOWN'},\n",
              "  'text': {'beginOffset': 273, 'content': 'level'}},\n",
              " {'dependencyEdge': {'headTokenIndex': 53, 'label': 'PREP'},\n",
              "  'lemma': 'of',\n",
              "  'partOfSpeech': {'aspect': 'ASPECT_UNKNOWN',\n",
              "   'case': 'CASE_UNKNOWN',\n",
              "   'form': 'FORM_UNKNOWN',\n",
              "   'gender': 'GENDER_UNKNOWN',\n",
              "   'mood': 'MOOD_UNKNOWN',\n",
              "   'number': 'NUMBER_UNKNOWN',\n",
              "   'person': 'PERSON_UNKNOWN',\n",
              "   'proper': 'PROPER_UNKNOWN',\n",
              "   'reciprocity': 'RECIPROCITY_UNKNOWN',\n",
              "   'tag': 'ADP',\n",
              "   'tense': 'TENSE_UNKNOWN',\n",
              "   'voice': 'VOICE_UNKNOWN'},\n",
              "  'text': {'beginOffset': 279, 'content': 'of'}},\n",
              " {'dependencyEdge': {'headTokenIndex': 54, 'label': 'POBJ'},\n",
              "  'lemma': 'accuracy',\n",
              "  'partOfSpeech': {'aspect': 'ASPECT_UNKNOWN',\n",
              "   'case': 'CASE_UNKNOWN',\n",
              "   'form': 'FORM_UNKNOWN',\n",
              "   'gender': 'GENDER_UNKNOWN',\n",
              "   'mood': 'MOOD_UNKNOWN',\n",
              "   'number': 'SINGULAR',\n",
              "   'person': 'PERSON_UNKNOWN',\n",
              "   'proper': 'PROPER_UNKNOWN',\n",
              "   'reciprocity': 'RECIPROCITY_UNKNOWN',\n",
              "   'tag': 'NOUN',\n",
              "   'tense': 'TENSE_UNKNOWN',\n",
              "   'voice': 'VOICE_UNKNOWN'},\n",
              "  'text': {'beginOffset': 282, 'content': 'accuracy'}},\n",
              " {'dependencyEdge': {'headTokenIndex': 60, 'label': 'NSUBJ'},\n",
              "  'lemma': 'that',\n",
              "  'partOfSpeech': {'aspect': 'ASPECT_UNKNOWN',\n",
              "   'case': 'CASE_UNKNOWN',\n",
              "   'form': 'FORM_UNKNOWN',\n",
              "   'gender': 'GENDER_UNKNOWN',\n",
              "   'mood': 'MOOD_UNKNOWN',\n",
              "   'number': 'NUMBER_UNKNOWN',\n",
              "   'person': 'PERSON_UNKNOWN',\n",
              "   'proper': 'PROPER_UNKNOWN',\n",
              "   'reciprocity': 'RECIPROCITY_UNKNOWN',\n",
              "   'tag': 'DET',\n",
              "   'tense': 'TENSE_UNKNOWN',\n",
              "   'voice': 'VOICE_UNKNOWN'},\n",
              "  'text': {'beginOffset': 291, 'content': 'that'}},\n",
              " {'dependencyEdge': {'headTokenIndex': 60, 'label': 'AUX'},\n",
              "  'lemma': 'may',\n",
              "  'partOfSpeech': {'aspect': 'ASPECT_UNKNOWN',\n",
              "   'case': 'CASE_UNKNOWN',\n",
              "   'form': 'FORM_UNKNOWN',\n",
              "   'gender': 'GENDER_UNKNOWN',\n",
              "   'mood': 'MOOD_UNKNOWN',\n",
              "   'number': 'NUMBER_UNKNOWN',\n",
              "   'person': 'PERSON_UNKNOWN',\n",
              "   'proper': 'PROPER_UNKNOWN',\n",
              "   'reciprocity': 'RECIPROCITY_UNKNOWN',\n",
              "   'tag': 'VERB',\n",
              "   'tense': 'TENSE_UNKNOWN',\n",
              "   'voice': 'VOICE_UNKNOWN'},\n",
              "  'text': {'beginOffset': 296, 'content': 'may'}},\n",
              " {'dependencyEdge': {'headTokenIndex': 60, 'label': 'NEG'},\n",
              "  'lemma': 'not',\n",
              "  'partOfSpeech': {'aspect': 'ASPECT_UNKNOWN',\n",
              "   'case': 'CASE_UNKNOWN',\n",
              "   'form': 'FORM_UNKNOWN',\n",
              "   'gender': 'GENDER_UNKNOWN',\n",
              "   'mood': 'MOOD_UNKNOWN',\n",
              "   'number': 'NUMBER_UNKNOWN',\n",
              "   'person': 'PERSON_UNKNOWN',\n",
              "   'proper': 'PROPER_UNKNOWN',\n",
              "   'reciprocity': 'RECIPROCITY_UNKNOWN',\n",
              "   'tag': 'ADV',\n",
              "   'tense': 'TENSE_UNKNOWN',\n",
              "   'voice': 'VOICE_UNKNOWN'},\n",
              "  'text': {'beginOffset': 300, 'content': 'not'}},\n",
              " {'dependencyEdge': {'headTokenIndex': 60, 'label': 'AUX'},\n",
              "  'lemma': 'have',\n",
              "  'partOfSpeech': {'aspect': 'ASPECT_UNKNOWN',\n",
              "   'case': 'CASE_UNKNOWN',\n",
              "   'form': 'FORM_UNKNOWN',\n",
              "   'gender': 'GENDER_UNKNOWN',\n",
              "   'mood': 'MOOD_UNKNOWN',\n",
              "   'number': 'NUMBER_UNKNOWN',\n",
              "   'person': 'PERSON_UNKNOWN',\n",
              "   'proper': 'PROPER_UNKNOWN',\n",
              "   'reciprocity': 'RECIPROCITY_UNKNOWN',\n",
              "   'tag': 'VERB',\n",
              "   'tense': 'TENSE_UNKNOWN',\n",
              "   'voice': 'VOICE_UNKNOWN'},\n",
              "  'text': {'beginOffset': 304, 'content': 'have'}},\n",
              " {'dependencyEdge': {'headTokenIndex': 53, 'label': 'RCMOD'},\n",
              "  'lemma': 'be',\n",
              "  'partOfSpeech': {'aspect': 'ASPECT_UNKNOWN',\n",
              "   'case': 'CASE_UNKNOWN',\n",
              "   'form': 'FORM_UNKNOWN',\n",
              "   'gender': 'GENDER_UNKNOWN',\n",
              "   'mood': 'MOOD_UNKNOWN',\n",
              "   'number': 'NUMBER_UNKNOWN',\n",
              "   'person': 'PERSON_UNKNOWN',\n",
              "   'proper': 'PROPER_UNKNOWN',\n",
              "   'reciprocity': 'RECIPROCITY_UNKNOWN',\n",
              "   'tag': 'VERB',\n",
              "   'tense': 'PAST',\n",
              "   'voice': 'VOICE_UNKNOWN'},\n",
              "  'text': {'beginOffset': 309, 'content': 'been'}},\n",
              " {'dependencyEdge': {'headTokenIndex': 60, 'label': 'ACOMP'},\n",
              "  'lemma': 'possible',\n",
              "  'partOfSpeech': {'aspect': 'ASPECT_UNKNOWN',\n",
              "   'case': 'CASE_UNKNOWN',\n",
              "   'form': 'FORM_UNKNOWN',\n",
              "   'gender': 'GENDER_UNKNOWN',\n",
              "   'mood': 'MOOD_UNKNOWN',\n",
              "   'number': 'NUMBER_UNKNOWN',\n",
              "   'person': 'PERSON_UNKNOWN',\n",
              "   'proper': 'PROPER_UNKNOWN',\n",
              "   'reciprocity': 'RECIPROCITY_UNKNOWN',\n",
              "   'tag': 'ADJ',\n",
              "   'tense': 'TENSE_UNKNOWN',\n",
              "   'voice': 'VOICE_UNKNOWN'},\n",
              "  'text': {'beginOffset': 314, 'content': 'possible'}},\n",
              " {'dependencyEdge': {'headTokenIndex': 60, 'label': 'PREP'},\n",
              "  'lemma': 'with',\n",
              "  'partOfSpeech': {'aspect': 'ASPECT_UNKNOWN',\n",
              "   'case': 'CASE_UNKNOWN',\n",
              "   'form': 'FORM_UNKNOWN',\n",
              "   'gender': 'GENDER_UNKNOWN',\n",
              "   'mood': 'MOOD_UNKNOWN',\n",
              "   'number': 'NUMBER_UNKNOWN',\n",
              "   'person': 'PERSON_UNKNOWN',\n",
              "   'proper': 'PROPER_UNKNOWN',\n",
              "   'reciprocity': 'RECIPROCITY_UNKNOWN',\n",
              "   'tag': 'ADP',\n",
              "   'tense': 'TENSE_UNKNOWN',\n",
              "   'voice': 'VOICE_UNKNOWN'},\n",
              "  'text': {'beginOffset': 323, 'content': 'with'}},\n",
              " {'dependencyEdge': {'headTokenIndex': 67, 'label': 'POSS'},\n",
              "  'lemma': 'our',\n",
              "  'partOfSpeech': {'aspect': 'ASPECT_UNKNOWN',\n",
              "   'case': 'GENITIVE',\n",
              "   'form': 'FORM_UNKNOWN',\n",
              "   'gender': 'GENDER_UNKNOWN',\n",
              "   'mood': 'MOOD_UNKNOWN',\n",
              "   'number': 'PLURAL',\n",
              "   'person': 'FIRST',\n",
              "   'proper': 'PROPER_UNKNOWN',\n",
              "   'reciprocity': 'RECIPROCITY_UNKNOWN',\n",
              "   'tag': 'PRON',\n",
              "   'tense': 'TENSE_UNKNOWN',\n",
              "   'voice': 'VOICE_UNKNOWN'},\n",
              "  'text': {'beginOffset': 328, 'content': 'our'}},\n",
              " {'dependencyEdge': {'headTokenIndex': 67, 'label': 'NN'},\n",
              "  'lemma': 'in',\n",
              "  'partOfSpeech': {'aspect': 'ASPECT_UNKNOWN',\n",
              "   'case': 'CASE_UNKNOWN',\n",
              "   'form': 'FORM_UNKNOWN',\n",
              "   'gender': 'GENDER_UNKNOWN',\n",
              "   'mood': 'MOOD_UNKNOWN',\n",
              "   'number': 'NUMBER_UNKNOWN',\n",
              "   'person': 'PERSON_UNKNOWN',\n",
              "   'proper': 'PROPER_UNKNOWN',\n",
              "   'reciprocity': 'RECIPROCITY_UNKNOWN',\n",
              "   'tag': 'ADP',\n",
              "   'tense': 'TENSE_UNKNOWN',\n",
              "   'voice': 'VOICE_UNKNOWN'},\n",
              "  'text': {'beginOffset': 332, 'content': 'in'}},\n",
              " {'dependencyEdge': {'headTokenIndex': 64, 'label': 'P'},\n",
              "  'lemma': '-',\n",
              "  'partOfSpeech': {'aspect': 'ASPECT_UNKNOWN',\n",
              "   'case': 'CASE_UNKNOWN',\n",
              "   'form': 'FORM_UNKNOWN',\n",
              "   'gender': 'GENDER_UNKNOWN',\n",
              "   'mood': 'MOOD_UNKNOWN',\n",
              "   'number': 'NUMBER_UNKNOWN',\n",
              "   'person': 'PERSON_UNKNOWN',\n",
              "   'proper': 'PROPER_UNKNOWN',\n",
              "   'reciprocity': 'RECIPROCITY_UNKNOWN',\n",
              "   'tag': 'PUNCT',\n",
              "   'tense': 'TENSE_UNKNOWN',\n",
              "   'voice': 'VOICE_UNKNOWN'},\n",
              "  'text': {'beginOffset': 334, 'content': '-'}},\n",
              " {'dependencyEdge': {'headTokenIndex': 64, 'label': 'POBJ'},\n",
              "  'lemma': 'house',\n",
              "  'partOfSpeech': {'aspect': 'ASPECT_UNKNOWN',\n",
              "   'case': 'CASE_UNKNOWN',\n",
              "   'form': 'FORM_UNKNOWN',\n",
              "   'gender': 'GENDER_UNKNOWN',\n",
              "   'mood': 'MOOD_UNKNOWN',\n",
              "   'number': 'SINGULAR',\n",
              "   'person': 'PERSON_UNKNOWN',\n",
              "   'proper': 'PROPER_UNKNOWN',\n",
              "   'reciprocity': 'RECIPROCITY_UNKNOWN',\n",
              "   'tag': 'NOUN',\n",
              "   'tense': 'TENSE_UNKNOWN',\n",
              "   'voice': 'VOICE_UNKNOWN'},\n",
              "  'text': {'beginOffset': 335, 'content': 'house'}},\n",
              " {'dependencyEdge': {'headTokenIndex': 62, 'label': 'POBJ'},\n",
              "  'lemma': 'resource',\n",
              "  'partOfSpeech': {'aspect': 'ASPECT_UNKNOWN',\n",
              "   'case': 'CASE_UNKNOWN',\n",
              "   'form': 'FORM_UNKNOWN',\n",
              "   'gender': 'GENDER_UNKNOWN',\n",
              "   'mood': 'MOOD_UNKNOWN',\n",
              "   'number': 'PLURAL',\n",
              "   'person': 'PERSON_UNKNOWN',\n",
              "   'proper': 'PROPER_UNKNOWN',\n",
              "   'reciprocity': 'RECIPROCITY_UNKNOWN',\n",
              "   'tag': 'NOUN',\n",
              "   'tense': 'TENSE_UNKNOWN',\n",
              "   'voice': 'VOICE_UNKNOWN'},\n",
              "  'text': {'beginOffset': 341, 'content': 'resources'}},\n",
              " {'dependencyEdge': {'headTokenIndex': 40, 'label': 'P'},\n",
              "  'lemma': '.',\n",
              "  'partOfSpeech': {'aspect': 'ASPECT_UNKNOWN',\n",
              "   'case': 'CASE_UNKNOWN',\n",
              "   'form': 'FORM_UNKNOWN',\n",
              "   'gender': 'GENDER_UNKNOWN',\n",
              "   'mood': 'MOOD_UNKNOWN',\n",
              "   'number': 'NUMBER_UNKNOWN',\n",
              "   'person': 'PERSON_UNKNOWN',\n",
              "   'proper': 'PROPER_UNKNOWN',\n",
              "   'reciprocity': 'RECIPROCITY_UNKNOWN',\n",
              "   'tag': 'PUNCT',\n",
              "   'tense': 'TENSE_UNKNOWN',\n",
              "   'voice': 'VOICE_UNKNOWN'},\n",
              "  'text': {'beginOffset': 350, 'content': '.'}}]"
            ]
          },
          "metadata": {
            "tags": []
          },
          "execution_count": 19
        }
      ]
    },
    {
      "metadata": {
        "id": "ITxnMYwD-njf",
        "colab_type": "text"
      },
      "cell_type": "markdown",
      "source": [
        "### 演習問題"
      ]
    },
    {
      "metadata": {
        "id": "4RAFpvOE-p2F",
        "colab_type": "text"
      },
      "cell_type": "markdown",
      "source": [
        "** 1. エンティティ分析で著名人やランドマークを抽出してみましょう。**\n"
      ]
    },
    {
      "metadata": {
        "id": "bV2eLI-O_RF8",
        "colab_type": "text"
      },
      "cell_type": "markdown",
      "source": [
        "** 2. 感情分析をさまざまな文章に対して実行してみましょう。 **"
      ]
    },
    {
      "metadata": {
        "id": "wwxyo14L-BJk",
        "colab_type": "text"
      },
      "cell_type": "markdown",
      "source": [
        "## Cloud Translation API を使ってみよう !\n",
        "\n",
        "** Cloud Translation API** では、数千もの言語ペアの間でダイナミックにテキストを翻訳できます。 Cloud Translation API を使えば、プログラム上でウェブサイトやアプリケーションを Google Translate と統合できます。"
      ]
    },
    {
      "metadata": {
        "id": "b22Oua1h72N8",
        "colab_type": "text"
      },
      "cell_type": "markdown",
      "source": [
        "API Discovery Service を利用して **Cloud Translation API** を発見します。 Cloud Natural Language の REST API 仕様は[こちら](https://cloud.google.com/translate/docs/reference/rest)で解説されています。"
      ]
    },
    {
      "metadata": {
        "id": "0gTvennn-CHo",
        "colab_type": "code",
        "colab": {}
      },
      "cell_type": "code",
      "source": [
        "from googleapiclient.discovery import build\n",
        "\n",
        "translate_service = build('translate', 'v2', developerKey=APIKEY)"
      ],
      "execution_count": 0,
      "outputs": []
    },
    {
      "metadata": {
        "id": "MKbkmjod8hBW",
        "colab_type": "text"
      },
      "cell_type": "markdown",
      "source": [
        "Cloud Translation API に入力する情報を定義します。"
      ]
    },
    {
      "metadata": {
        "id": "VvYNcZfp4556",
        "colab_type": "code",
        "cellView": "both",
        "outputId": "b5e71a6f-a5e4-4c6c-85ef-f27c3d1b8518",
        "colab": {
          "base_uri": "https://localhost:8080/",
          "height": 105
        }
      },
      "cell_type": "code",
      "source": [
        "import textwrap\n",
        "\n",
        "source_language = \"tr\" #@param [\"en\", \"ja\"] {type: \"string\"}\n",
        "target_language = \"ja\" #@param [\"en\", \"ja\"] {type: \"string\"}\n",
        "source_sentence = \"Google Cloud Translation API'nin en iyi ger\\xE7ek zamanl\\u0131 \\xE7eviri sonu\\xE7lar\\u0131n\\u0131 ve Google'\\u0131n da en g\\xFCvenilir hizmeti sundu\\u011Funu g\\xF6rd\\xFCk. \\xC7eviri ara\\xE7lar\\u0131 Clash of Kings sohbet hizmetiyle de sorunsuz \\u015Fekilde entegre oldu.\" #@param {type:\"string\"}\n",
        "textwrap.wrap(source_sentence, width=50)"
      ],
      "execution_count": 50,
      "outputs": [
        {
          "output_type": "execute_result",
          "data": {
            "text/plain": [
              "[\"Google Cloud Translation API'nin en iyi gerçek\",\n",
              " \"zamanlı çeviri sonuçlarını ve Google'ın da en\",\n",
              " 'güvenilir hizmeti sunduğunu gördük. Çeviri',\n",
              " 'araçları Clash of Kings sohbet hizmetiyle de',\n",
              " 'sorunsuz şekilde entegre oldu.']"
            ]
          },
          "metadata": {
            "tags": []
          },
          "execution_count": 50
        }
      ]
    },
    {
      "metadata": {
        "colab_type": "text",
        "id": "iTv-BKJUKcBy"
      },
      "cell_type": "markdown",
      "source": [
        "** 2. 次のテキストを英語に翻訳しましょう: **\n",
        "\n",
        "Google Cloud Translation API'nin en iyi gerçek zamanlı çeviri sonuçlarını ve Google'ın da en güvenilir hizmeti sunduğunu gördük. Çeviri araçları Clash of Kings sohbet hizmetiyle de sorunsuz şekilde entegre oldu."
      ]
    },
    {
      "metadata": {
        "colab_type": "text",
        "id": "BfeQBDrsKbDV"
      },
      "cell_type": "markdown",
      "source": [
        "** 2. 次のテキストを英語に翻訳しましょう: **\n",
        "\n",
        "Google Cloud Translation API'nin en iyi gerçek zamanlı çeviri sonuçlarını ve Google'ın da en güvenilir hizmeti sunduğunu gördük. Çeviri araçları Clash of Kings sohbet hizmetiyle de sorunsuz şekilde entegre oldu."
      ]
    },
    {
      "metadata": {
        "id": "tUDIOJ-iF4fU",
        "colab_type": "text"
      },
      "cell_type": "markdown",
      "source": [
        "### テキストの翻訳\n",
        "\n",
        "[translations](https://cloud.google.com/translate/docs/reference/translate) リクエストを使えば、入力テキストを、指定した言語に翻訳されたテキストを取得することが出来ます。入力テキストには**書式なしテキスト**または **HTML** を使用できます。Cloud Translation API は入力テキスト内の HTML タグは翻訳せず、タグ間にあるテキストのみを翻訳します。出力では、（未翻訳の）HTML タグは保持されます。タグは翻訳されたテキストに合わせて挿入されますが、ソース言語とターゲット言語には差異があるため、その位置調整は可能な範囲に留まります。出力内の HTML タグの順序は、翻訳による語順変化のため入力テキスト内の順序と異なる場合があります。"
      ]
    },
    {
      "metadata": {
        "id": "9D_goQ6SF6G4",
        "colab_type": "code",
        "colab": {}
      },
      "cell_type": "code",
      "source": [
        "# Note that you can change Translation model by changing 'model' parameter.\n",
        "\n",
        "response = translate_service.translations().list(\n",
        "  source=source_language,\n",
        "  target=target_language,\n",
        "  q=source_sentence,\n",
        "  model='nmt',\n",
        "  format='html').execute()"
      ],
      "execution_count": 0,
      "outputs": []
    },
    {
      "metadata": {
        "id": "2gKqsTvF85Sj",
        "colab_type": "code",
        "outputId": "54cf23f2-c44c-4aa4-8294-b25496acac00",
        "colab": {
          "base_uri": "https://localhost:8080/",
          "height": 70
        }
      },
      "cell_type": "code",
      "source": [
        "text = response['translations'][0]['translatedText']\n",
        "textwrap.wrap(text)"
      ],
      "execution_count": 46,
      "outputs": [
        {
          "output_type": "execute_result",
          "data": {
            "text/plain": [
              "['意見や社説を分類することは、データサイエンスチームにとって時間がかかり困難な作業になる可能性がありますが、Cloud Natural Lan',\n",
              " 'guageは、明確なトピックを高い信頼性で即座に特定することができました。このツールを使用すると、社内リソースでは不可能だったレベルの正確さ',\n",
              " 'を達成するために、数か月間ではなくても数週間の作業が節約されました。']"
            ]
          },
          "metadata": {
            "tags": []
          },
          "execution_count": 46
        }
      ]
    },
    {
      "metadata": {
        "id": "cw6EjNhxEdeC",
        "colab_type": "text"
      },
      "cell_type": "markdown",
      "source": [
        "### 言語の検出\n",
        "\n",
        "[detections](https://cloud.google.com/translate/docs/reference/detect) リクエストを使えば、入力テキストの言語を特定できます。この機能は使われている言語が不明なテキストを自動的に翻訳するときなどに利用できます。\n"
      ]
    },
    {
      "metadata": {
        "id": "GKbHQ-pKFubA",
        "colab_type": "code",
        "outputId": "4d22ac2d-176a-48ed-c571-79607c385343",
        "colab": {
          "base_uri": "https://localhost:8080/",
          "height": 34
        }
      },
      "cell_type": "code",
      "source": [
        "response = translate_service.detections().list(\n",
        "  q=source_sentence\n",
        ").execute()\n",
        "\n",
        "response['detections']"
      ],
      "execution_count": 49,
      "outputs": [
        {
          "output_type": "execute_result",
          "data": {
            "text/plain": [
              "[[{'confidence': 1, 'isReliable': False, 'language': 'tr'}]]"
            ]
          },
          "metadata": {
            "tags": []
          },
          "execution_count": 49
        }
      ]
    },
    {
      "metadata": {
        "id": "RNH1HmaX9j53",
        "colab_type": "text"
      },
      "cell_type": "markdown",
      "source": [
        "### 演習問題"
      ]
    },
    {
      "metadata": {
        "id": "kWcoEUe9GP6C",
        "colab_type": "code",
        "colab": {
          "base_uri": "https://localhost:8080/",
          "height": 90
        },
        "outputId": "f8f633a4-158c-44cc-c693-132afd9fde2d"
      },
      "cell_type": "code",
      "source": [
        "print(source_language)\n",
        "print(target_language)\n",
        "print(source_sentence)"
      ],
      "execution_count": 29,
      "outputs": [
        {
          "output_type": "stream",
          "text": [
            "en\n",
            "ja\n",
            "Classifying Opinion and Editorials can be time-consuming and difficult work for any data science team, but Cloud Natural Language was able to instantly identify clear topics with a high-level of confidence. This tool has saved me weeks, if not months, of work to achieve a level of accuracy that may not have been possible with our in-house resources.\n"
          ],
          "name": "stdout"
        }
      ]
    },
    {
      "metadata": {
        "id": "CesX_3vn9oLT",
        "colab_type": "text"
      },
      "cell_type": "markdown",
      "source": [
        "** 1. 翻訳モデルを NMT から PBT に変更するとどうなるか確かめましょう ** "
      ]
    },
    {
      "metadata": {
        "id": "iullij9-Gxb8",
        "colab_type": "code",
        "colab": {}
      },
      "cell_type": "code",
      "source": [
        "# Note that you can change Translation model by changing 'model' parameter.\n",
        "\n",
        "response = translate_service.translations().list(\n",
        "  source=source_language,\n",
        "  target=target_language,\n",
        "  q=source_sentence,\n",
        "  model='base',\n",
        "  format='html').execute()"
      ],
      "execution_count": 0,
      "outputs": []
    },
    {
      "metadata": {
        "id": "l1cYgLdUHmb_",
        "colab_type": "code",
        "colab": {
          "base_uri": "https://localhost:8080/",
          "height": 70
        },
        "outputId": "f4e757af-c87b-4c3a-993e-ac3983ab0e19"
      },
      "cell_type": "code",
      "source": [
        "text = response['translations'][0]['translatedText']\n",
        "textwrap.wrap(text)"
      ],
      "execution_count": 37,
      "outputs": [
        {
          "output_type": "execute_result",
          "data": {
            "text/plain": [
              "['分類意見や論説は、任意のデータサイエンスチームのために時間がかかり、困難な作業することができますが、クラウド自然言語は瞬時に自信の高レベルで',\n",
              " 'クリアなトピックを識別することができました。このツールは、社内のリソースでは可能ではなかったかもしれない精度のレベルを達成するために仕事を、',\n",
              " 'そうでない場合は数ヶ月、私は数週間を保存しています。']"
            ]
          },
          "metadata": {
            "tags": []
          },
          "execution_count": 37
        }
      ]
    },
    {
      "metadata": {
        "id": "QIahWrox9poj",
        "colab_type": "text"
      },
      "cell_type": "markdown",
      "source": [
        "** 2. 次のテキストを英語に翻訳しましょう: **\n",
        "\n",
        "Google Cloud Translation API'nin en iyi gerçek zamanlı çeviri sonuçlarını ve Google'ın da en güvenilir hizmeti sunduğunu gördük. Çeviri araçları Clash of Kings sohbet hizmetiyle de sorunsuz şekilde entegre oldu."
      ]
    },
    {
      "metadata": {
        "id": "KpmJ1JK3KxbG",
        "colab_type": "code",
        "colab": {}
      },
      "cell_type": "code",
      "source": [
        ""
      ],
      "execution_count": 0,
      "outputs": []
    },
    {
      "metadata": {
        "id": "3xFFLKELIdLq",
        "colab_type": "code",
        "colab": {
          "base_uri": "https://localhost:8080/",
          "height": 87
        },
        "cellView": "both",
        "outputId": "45d5a615-84cb-4a80-c490-5d66e2ca4bca"
      },
      "cell_type": "code",
      "source": [
        "import textwrap\n",
        "\n",
        "source_language = \"tr\" #@param [\"en\", \"ja\"] {type: \"string\"}\n",
        "source_sentence = \"Google Cloud Translation API'nin en iyi gerçek zamanlı çeviri sonuçlarını ve Google'ın da en güvenilir hizmeti sunduğunu gördük. Çeviri araçları Clash of Kings sohbet hizmetiyle de sorunsuz şekilde entegre oldu.\" #@param {type:\"string\"}\n",
        "\n",
        "document_type = \"PLAIN_TEXT\" #@param[\"PLAIN_TEXT\", \"HTML\"] {type: \"string\"}\n",
        "encoding_type = \"UTF8\" #@param[\"UTF8\", \"UTF16\", \"UTF32\"] {type: \"string\"}\n",
        "\n",
        "textwrap.wrap(source_sentence)"
      ],
      "execution_count": 51,
      "outputs": [
        {
          "output_type": "execute_result",
          "data": {
            "text/plain": [
              "[\"Google Cloud Translation API'nin en iyi gerçek zamanlı çeviri\",\n",
              " \"sonuçlarını ve Google'ın da en güvenilir hizmeti sunduğunu gördük.\",\n",
              " 'Çeviri araçları Clash of Kings sohbet hizmetiyle de sorunsuz şekilde',\n",
              " 'entegre oldu.']"
            ]
          },
          "metadata": {
            "tags": []
          },
          "execution_count": 51
        }
      ]
    },
    {
      "metadata": {
        "id": "275g5uSvImk2",
        "colab_type": "code",
        "colab": {}
      },
      "cell_type": "code",
      "source": [
        "# Note that you can change Translation model by changing 'model' parameter.\n",
        "\n",
        "response = translate_service.translations().list(\n",
        "  source=source_language,\n",
        "  target=target_language,\n",
        "  q=source_sentence,\n",
        "  model='base',\n",
        "  format='html').execute()"
      ],
      "execution_count": 0,
      "outputs": []
    },
    {
      "metadata": {
        "id": "e3yHxP6VIp7d",
        "colab_type": "code",
        "colab": {
          "base_uri": "https://localhost:8080/",
          "height": 52
        },
        "outputId": "3933991f-d706-44a7-9e98-96cc73094a2b"
      },
      "cell_type": "code",
      "source": [
        "text = response['translations'][0]['translatedText']\n",
        "textwrap.wrap(text)"
      ],
      "execution_count": 53,
      "outputs": [
        {
          "output_type": "execute_result",
          "data": {
            "text/plain": [
              "['私たちは、Googleの検索結果にGoogleクラウド翻訳APIの最高のリアルタイム翻訳とは、最も信頼性の高いサービスを提供しているのを見ま',\n",
              " 'した。キングスチャットサービスのクラッシュと翻訳ツールもシームレスに統合されました。']"
            ]
          },
          "metadata": {
            "tags": []
          },
          "execution_count": 53
        }
      ]
    }
  ]
}